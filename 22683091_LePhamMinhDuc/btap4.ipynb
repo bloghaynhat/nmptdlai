{
 "cells": [
  {
   "cell_type": "markdown",
   "metadata": {},
   "source": [
    "4. Xử lý dữ liệu không cân bằng\n",
    "<p>Đề bài: Tạo một bộ dữ liệu không cân bằng và sử dụng SMOTE (Synthetic Minority Over-sampling Technique) kết \n",
    "hợp với Gaussian Naive Bayes để cải thiện hiệu suất phân loại. </p>"
   ]
  },
  {
   "cell_type": "code",
   "execution_count": 1,
   "metadata": {},
   "outputs": [],
   "source": [
    "# 1. Sử dụng make_classification từ sklearn để tạo dữ liệu không cân bằng. "
   ]
  },
  {
   "cell_type": "code",
   "execution_count": 2,
   "metadata": {},
   "outputs": [],
   "source": [
    "# 2. Chia dữ liệu thành tập huấn luyện và kiểm tra"
   ]
  },
  {
   "cell_type": "code",
   "execution_count": 3,
   "metadata": {},
   "outputs": [],
   "source": [
    "# 3. Áp dụng SMOTE từ thư viện imbalanced-learn trên tập huấn luyện"
   ]
  },
  {
   "cell_type": "code",
   "execution_count": 4,
   "metadata": {},
   "outputs": [],
   "source": [
    "# 4. Huấn luyện Gaussian Naive Bayes trên dữ liệu đã cân bằng   "
   ]
  },
  {
   "cell_type": "code",
   "execution_count": 5,
   "metadata": {},
   "outputs": [],
   "source": [
    "# 5. Đánh giá hiệu suất trên tập kiểm tra, sử dụng các metric phù hợp cho dữ liệu không cân bằng như balanced \n",
    "# accuracy hoặc F1-score."
   ]
  }
 ],
 "metadata": {
  "kernelspec": {
   "display_name": "Python 3",
   "language": "python",
   "name": "python3"
  },
  "language_info": {
   "codemirror_mode": {
    "name": "ipython",
    "version": 3
   },
   "file_extension": ".py",
   "mimetype": "text/x-python",
   "name": "python",
   "nbconvert_exporter": "python",
   "pygments_lexer": "ipython3",
   "version": "3.12.7"
  }
 },
 "nbformat": 4,
 "nbformat_minor": 2
}
