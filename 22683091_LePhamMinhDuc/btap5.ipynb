{
 "cells": [
  {
   "cell_type": "markdown",
   "metadata": {},
   "source": [
    "5. Trực quan hóa kết quả phân loại\n",
    "<p>Đề bài: Sử dụng bộ dữ liệu Iris, hãy xây dựng mô hình Gaussian Naive Bayes và vẽ ma trận nhầm lẫn (confusion \n",
    "matrix) để trực quan hóa kết quả phân loại.</p>"
   ]
  },
  {
   "cell_type": "code",
   "execution_count": 1,
   "metadata": {},
   "outputs": [],
   "source": [
    "# 1. Tải và chia dữ liệu Iris như trong bài tập 1."
   ]
  },
  {
   "cell_type": "code",
   "execution_count": 2,
   "metadata": {},
   "outputs": [],
   "source": [
    "# 2. Huấn luyện mô hình Gaussian Naive Bayes."
   ]
  },
  {
   "cell_type": "code",
   "execution_count": 3,
   "metadata": {},
   "outputs": [],
   "source": [
    "# 3. Dự đoán trên tập kiểm tra."
   ]
  },
  {
   "cell_type": "code",
   "execution_count": 4,
   "metadata": {},
   "outputs": [],
   "source": [
    "# 4. Sử dụng confusion_matrix từ sklearn.metrics để tạo ma trận nhầm lẫn."
   ]
  },
  {
   "cell_type": "code",
   "execution_count": 5,
   "metadata": {},
   "outputs": [],
   "source": [
    "# 5. Sử dụng ConfusionMatrixDisplay để vẽ ma trận nhầm lẫn."
   ]
  },
  {
   "cell_type": "code",
   "execution_count": 6,
   "metadata": {},
   "outputs": [],
   "source": [
    "# 6. Phân tích kết quả: các ô trên đường chéo chính cho biết số lượng mẫu được phân loại đúng, các ô khác cho biết \n",
    "# số lượng mẫu bị phân loại sai"
   ]
  }
 ],
 "metadata": {
  "kernelspec": {
   "display_name": "Python 3",
   "language": "python",
   "name": "python3"
  },
  "language_info": {
   "codemirror_mode": {
    "name": "ipython",
    "version": 3
   },
   "file_extension": ".py",
   "mimetype": "text/x-python",
   "name": "python",
   "nbconvert_exporter": "python",
   "pygments_lexer": "ipython3",
   "version": "3.12.7"
  }
 },
 "nbformat": 4,
 "nbformat_minor": 2
}
