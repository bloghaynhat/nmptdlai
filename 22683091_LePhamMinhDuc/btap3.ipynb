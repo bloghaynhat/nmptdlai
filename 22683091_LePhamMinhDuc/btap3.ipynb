{
 "cells": [
  {
   "cell_type": "markdown",
   "metadata": {},
   "source": [
    "3. So sánh với các phương pháp cụ thể Decision Tree và Random Forest.\n",
    "<p>Đề bài: Sử dụng bộ dữ liệu về chất lượng rượu vang, hãy so sánh hiệu suất của Gaussian Naive Bayes với các thuật \n",
    "toán khác như Decision Tree và Random Forest.</p>"
   ]
  },
  {
   "cell_type": "code",
   "execution_count": 11,
   "metadata": {},
   "outputs": [],
   "source": [
    "# 1. Tải bộ dữ liệu về chất lượng rượu vang từ sklearn hoặc UCI repository.\n",
    "from sklearn.datasets import load_wine\n",
    "from sklearn.model_selection import train_test_split\n",
    "from sklearn.naive_bayes import GaussianNB\n",
    "from sklearn.ensemble import RandomForestClassifier\n",
    "from sklearn.tree import DecisionTreeClassifier\n",
    "from sklearn.metrics import accuracy_score"
   ]
  },
  {
   "cell_type": "code",
   "execution_count": 12,
   "metadata": {},
   "outputs": [],
   "source": [
    "wine = load_wine()"
   ]
  },
  {
   "cell_type": "code",
   "execution_count": 13,
   "metadata": {},
   "outputs": [],
   "source": [
    "X = wine.data\n",
    "y = wine.target"
   ]
  },
  {
   "cell_type": "code",
   "execution_count": 14,
   "metadata": {},
   "outputs": [],
   "source": [
    "# 2. Chia dữ liệu thành tập huấn luyện và kiểm tra\n",
    "X_train, X_test, y_train, y_test = train_test_split(X,y,test_size=0.3, random_state=42)"
   ]
  },
  {
   "cell_type": "code",
   "execution_count": 15,
   "metadata": {},
   "outputs": [],
   "source": [
    "# 3. Huấn luyện ba mô hình: Gaussian Naive Bayes, Decision Tree, và Random Forest\n",
    "models = {\n",
    "    'GaussianNB' : GaussianNB(),\n",
    "    'RandomForestClassifier' : RandomForestClassifier(random_state=42),\n",
    "    'DecisionTreeClassifier' : DecisionTreeClassifier(random_state=42)\n",
    "}"
   ]
  },
  {
   "cell_type": "code",
   "execution_count": 16,
   "metadata": {},
   "outputs": [
    {
     "name": "stdout",
     "output_type": "stream",
     "text": [
      "GaussianNB - Độ chính xác : 1.00\n",
      "RandomForestClassifier - Độ chính xác : 1.00\n",
      "DecisionTreeClassifier - Độ chính xác : 0.96\n"
     ]
    }
   ],
   "source": [
    "# 4. Dự đoán trên tập kiểm tra với cả ba mô hình.\n",
    "# 5. So sánh độ chính xác của ba mô hình\n",
    "for name,model in models.items():\n",
    "    model.fit(X_train,y_train)\n",
    "    y_pred = model.predict(X_test)\n",
    "    accuracy = accuracy_score(y_test,y_pred)\n",
    "    print(f\"{name} - Độ chính xác : {accuracy:.2f}\")"
   ]
  }
 ],
 "metadata": {
  "kernelspec": {
   "display_name": "Python 3",
   "language": "python",
   "name": "python3"
  },
  "language_info": {
   "codemirror_mode": {
    "name": "ipython",
    "version": 3
   },
   "file_extension": ".py",
   "mimetype": "text/x-python",
   "name": "python",
   "nbconvert_exporter": "python",
   "pygments_lexer": "ipython3",
   "version": "3.12.7"
  }
 },
 "nbformat": 4,
 "nbformat_minor": 2
}
