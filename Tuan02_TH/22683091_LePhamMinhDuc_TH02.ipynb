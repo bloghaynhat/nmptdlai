{
 "cells": [
  {
   "cell_type": "code",
   "execution_count": 1,
   "metadata": {},
   "outputs": [],
   "source": [
    "import pandas as pd"
   ]
  },
  {
   "cell_type": "markdown",
   "metadata": {},
   "source": [
    "Câu 1: Đọc dữ liệu lên dataframe"
   ]
  },
  {
   "cell_type": "code",
   "execution_count": 2,
   "metadata": {},
   "outputs": [],
   "source": [
    "thietbi = pd.read_csv('./thietbi.csv')\n",
    "nguoidung_thietbi = pd.read_csv('./nguoidung_thietbi.csv')\n",
    "nguoidung_sudung = pd.read_csv('./nguoidung_sudung.csv')"
   ]
  },
  {
   "cell_type": "markdown",
   "metadata": {},
   "source": [
    "Câu 3: Đổi tên các cột dữ liệu cần thiết"
   ]
  },
  {
   "cell_type": "code",
   "execution_count": 3,
   "metadata": {},
   "outputs": [],
   "source": [
    "thietbi.rename(columns={'Retail Branding' : 'Branding', 'Marketing Name' : 'MarketingName'}, inplace=True)"
   ]
  },
  {
   "cell_type": "markdown",
   "metadata": {},
   "source": [
    "Câu 4: Trộn bảng nguoidung_sudung và nguoidung_thietbi thông qua inner join để được bảng \n",
    "kết quả có các cột sau: [outgoing_mins_per_month, outgoing_sms_per_month, \n",
    "monthly_mb, use_id, platform, device]"
   ]
  },
  {
   "cell_type": "code",
   "execution_count": 4,
   "metadata": {},
   "outputs": [
    {
     "data": {
      "text/html": [
       "<div>\n",
       "<style scoped>\n",
       "    .dataframe tbody tr th:only-of-type {\n",
       "        vertical-align: middle;\n",
       "    }\n",
       "\n",
       "    .dataframe tbody tr th {\n",
       "        vertical-align: top;\n",
       "    }\n",
       "\n",
       "    .dataframe thead th {\n",
       "        text-align: right;\n",
       "    }\n",
       "</style>\n",
       "<table border=\"1\" class=\"dataframe\">\n",
       "  <thead>\n",
       "    <tr style=\"text-align: right;\">\n",
       "      <th></th>\n",
       "      <th>outgoing_mins_per_month</th>\n",
       "      <th>outgoing_sms_per_month</th>\n",
       "      <th>monthly_mb</th>\n",
       "      <th>use_id</th>\n",
       "      <th>platform</th>\n",
       "      <th>device</th>\n",
       "    </tr>\n",
       "  </thead>\n",
       "  <tbody>\n",
       "    <tr>\n",
       "      <th>0</th>\n",
       "      <td>21.97</td>\n",
       "      <td>4.82</td>\n",
       "      <td>1557.33</td>\n",
       "      <td>22787</td>\n",
       "      <td>android</td>\n",
       "      <td>GT-I9505</td>\n",
       "    </tr>\n",
       "    <tr>\n",
       "      <th>1</th>\n",
       "      <td>1710.08</td>\n",
       "      <td>136.88</td>\n",
       "      <td>7267.55</td>\n",
       "      <td>22788</td>\n",
       "      <td>android</td>\n",
       "      <td>SM-G930F</td>\n",
       "    </tr>\n",
       "    <tr>\n",
       "      <th>2</th>\n",
       "      <td>1710.08</td>\n",
       "      <td>136.88</td>\n",
       "      <td>7267.55</td>\n",
       "      <td>22789</td>\n",
       "      <td>android</td>\n",
       "      <td>SM-G930F</td>\n",
       "    </tr>\n",
       "    <tr>\n",
       "      <th>3</th>\n",
       "      <td>94.46</td>\n",
       "      <td>35.17</td>\n",
       "      <td>519.12</td>\n",
       "      <td>22790</td>\n",
       "      <td>android</td>\n",
       "      <td>D2303</td>\n",
       "    </tr>\n",
       "    <tr>\n",
       "      <th>4</th>\n",
       "      <td>71.59</td>\n",
       "      <td>79.26</td>\n",
       "      <td>1557.33</td>\n",
       "      <td>22792</td>\n",
       "      <td>android</td>\n",
       "      <td>SM-G361F</td>\n",
       "    </tr>\n",
       "    <tr>\n",
       "      <th>...</th>\n",
       "      <td>...</td>\n",
       "      <td>...</td>\n",
       "      <td>...</td>\n",
       "      <td>...</td>\n",
       "      <td>...</td>\n",
       "      <td>...</td>\n",
       "    </tr>\n",
       "    <tr>\n",
       "      <th>154</th>\n",
       "      <td>198.59</td>\n",
       "      <td>90.49</td>\n",
       "      <td>5191.12</td>\n",
       "      <td>23043</td>\n",
       "      <td>android</td>\n",
       "      <td>SM-G900F</td>\n",
       "    </tr>\n",
       "    <tr>\n",
       "      <th>155</th>\n",
       "      <td>198.59</td>\n",
       "      <td>90.49</td>\n",
       "      <td>3114.67</td>\n",
       "      <td>23044</td>\n",
       "      <td>android</td>\n",
       "      <td>SM-G900F</td>\n",
       "    </tr>\n",
       "    <tr>\n",
       "      <th>156</th>\n",
       "      <td>106.65</td>\n",
       "      <td>82.13</td>\n",
       "      <td>5191.12</td>\n",
       "      <td>23046</td>\n",
       "      <td>android</td>\n",
       "      <td>Moto G (4)</td>\n",
       "    </tr>\n",
       "    <tr>\n",
       "      <th>157</th>\n",
       "      <td>344.53</td>\n",
       "      <td>20.53</td>\n",
       "      <td>519.12</td>\n",
       "      <td>23049</td>\n",
       "      <td>android</td>\n",
       "      <td>SM-G900F</td>\n",
       "    </tr>\n",
       "    <tr>\n",
       "      <th>158</th>\n",
       "      <td>42.75</td>\n",
       "      <td>46.83</td>\n",
       "      <td>5191.12</td>\n",
       "      <td>23053</td>\n",
       "      <td>android</td>\n",
       "      <td>Vodafone Smart ultra 6</td>\n",
       "    </tr>\n",
       "  </tbody>\n",
       "</table>\n",
       "<p>159 rows × 6 columns</p>\n",
       "</div>"
      ],
      "text/plain": [
       "     outgoing_mins_per_month  outgoing_sms_per_month  monthly_mb  use_id  \\\n",
       "0                      21.97                    4.82     1557.33   22787   \n",
       "1                    1710.08                  136.88     7267.55   22788   \n",
       "2                    1710.08                  136.88     7267.55   22789   \n",
       "3                      94.46                   35.17      519.12   22790   \n",
       "4                      71.59                   79.26     1557.33   22792   \n",
       "..                       ...                     ...         ...     ...   \n",
       "154                   198.59                   90.49     5191.12   23043   \n",
       "155                   198.59                   90.49     3114.67   23044   \n",
       "156                   106.65                   82.13     5191.12   23046   \n",
       "157                   344.53                   20.53      519.12   23049   \n",
       "158                    42.75                   46.83     5191.12   23053   \n",
       "\n",
       "    platform                  device  \n",
       "0    android                GT-I9505  \n",
       "1    android                SM-G930F  \n",
       "2    android                SM-G930F  \n",
       "3    android                   D2303  \n",
       "4    android                SM-G361F  \n",
       "..       ...                     ...  \n",
       "154  android                SM-G900F  \n",
       "155  android                SM-G900F  \n",
       "156  android              Moto G (4)  \n",
       "157  android                SM-G900F  \n",
       "158  android  Vodafone Smart ultra 6  \n",
       "\n",
       "[159 rows x 6 columns]"
      ]
     },
     "execution_count": 4,
     "metadata": {},
     "output_type": "execute_result"
    }
   ],
   "source": [
    "dfKetQua = pd.merge(nguoidung_sudung, nguoidung_thietbi[['use_id','platform','device']], on='use_id')\n",
    "dfKetQua"
   ]
  },
  {
   "cell_type": "markdown",
   "metadata": {},
   "source": [
    "Câu 5: Tiếp tục inner-join bảng thietbi và dfKetQua để có thêm 2 cột Model và Branding trong \n",
    "bảng kết quả cuối cùng. Lưu ý ở đây khóa liên kết sẽ khác tên"
   ]
  },
  {
   "cell_type": "code",
   "execution_count": 5,
   "metadata": {},
   "outputs": [
    {
     "data": {
      "text/html": [
       "<div>\n",
       "<style scoped>\n",
       "    .dataframe tbody tr th:only-of-type {\n",
       "        vertical-align: middle;\n",
       "    }\n",
       "\n",
       "    .dataframe tbody tr th {\n",
       "        vertical-align: top;\n",
       "    }\n",
       "\n",
       "    .dataframe thead th {\n",
       "        text-align: right;\n",
       "    }\n",
       "</style>\n",
       "<table border=\"1\" class=\"dataframe\">\n",
       "  <thead>\n",
       "    <tr style=\"text-align: right;\">\n",
       "      <th></th>\n",
       "      <th>outgoing_mins_per_month</th>\n",
       "      <th>outgoing_sms_per_month</th>\n",
       "      <th>monthly_mb</th>\n",
       "      <th>use_id</th>\n",
       "      <th>platform</th>\n",
       "      <th>device</th>\n",
       "      <th>Branding</th>\n",
       "      <th>Model</th>\n",
       "    </tr>\n",
       "  </thead>\n",
       "  <tbody>\n",
       "    <tr>\n",
       "      <th>0</th>\n",
       "      <td>21.97</td>\n",
       "      <td>4.82</td>\n",
       "      <td>1557.33</td>\n",
       "      <td>22787</td>\n",
       "      <td>android</td>\n",
       "      <td>GT-I9505</td>\n",
       "      <td>Samsung</td>\n",
       "      <td>GT-I9505</td>\n",
       "    </tr>\n",
       "    <tr>\n",
       "      <th>1</th>\n",
       "      <td>1710.08</td>\n",
       "      <td>136.88</td>\n",
       "      <td>7267.55</td>\n",
       "      <td>22788</td>\n",
       "      <td>android</td>\n",
       "      <td>SM-G930F</td>\n",
       "      <td>Samsung</td>\n",
       "      <td>SM-G930F</td>\n",
       "    </tr>\n",
       "    <tr>\n",
       "      <th>2</th>\n",
       "      <td>1710.08</td>\n",
       "      <td>136.88</td>\n",
       "      <td>7267.55</td>\n",
       "      <td>22789</td>\n",
       "      <td>android</td>\n",
       "      <td>SM-G930F</td>\n",
       "      <td>Samsung</td>\n",
       "      <td>SM-G930F</td>\n",
       "    </tr>\n",
       "    <tr>\n",
       "      <th>3</th>\n",
       "      <td>94.46</td>\n",
       "      <td>35.17</td>\n",
       "      <td>519.12</td>\n",
       "      <td>22790</td>\n",
       "      <td>android</td>\n",
       "      <td>D2303</td>\n",
       "      <td>Sony</td>\n",
       "      <td>D2303</td>\n",
       "    </tr>\n",
       "    <tr>\n",
       "      <th>4</th>\n",
       "      <td>71.59</td>\n",
       "      <td>79.26</td>\n",
       "      <td>1557.33</td>\n",
       "      <td>22792</td>\n",
       "      <td>android</td>\n",
       "      <td>SM-G361F</td>\n",
       "      <td>Samsung</td>\n",
       "      <td>SM-G361F</td>\n",
       "    </tr>\n",
       "    <tr>\n",
       "      <th>...</th>\n",
       "      <td>...</td>\n",
       "      <td>...</td>\n",
       "      <td>...</td>\n",
       "      <td>...</td>\n",
       "      <td>...</td>\n",
       "      <td>...</td>\n",
       "      <td>...</td>\n",
       "      <td>...</td>\n",
       "    </tr>\n",
       "    <tr>\n",
       "      <th>196</th>\n",
       "      <td>106.65</td>\n",
       "      <td>82.13</td>\n",
       "      <td>5191.12</td>\n",
       "      <td>23046</td>\n",
       "      <td>android</td>\n",
       "      <td>Moto G (4)</td>\n",
       "      <td>Motorola</td>\n",
       "      <td>Moto G (4)</td>\n",
       "    </tr>\n",
       "    <tr>\n",
       "      <th>197</th>\n",
       "      <td>106.65</td>\n",
       "      <td>82.13</td>\n",
       "      <td>5191.12</td>\n",
       "      <td>23046</td>\n",
       "      <td>android</td>\n",
       "      <td>Moto G (4)</td>\n",
       "      <td>Motorola</td>\n",
       "      <td>Moto G (4)</td>\n",
       "    </tr>\n",
       "    <tr>\n",
       "      <th>198</th>\n",
       "      <td>344.53</td>\n",
       "      <td>20.53</td>\n",
       "      <td>519.12</td>\n",
       "      <td>23049</td>\n",
       "      <td>android</td>\n",
       "      <td>SM-G900F</td>\n",
       "      <td>Samsung</td>\n",
       "      <td>SM-G900F</td>\n",
       "    </tr>\n",
       "    <tr>\n",
       "      <th>199</th>\n",
       "      <td>42.75</td>\n",
       "      <td>46.83</td>\n",
       "      <td>5191.12</td>\n",
       "      <td>23053</td>\n",
       "      <td>android</td>\n",
       "      <td>Vodafone Smart ultra 6</td>\n",
       "      <td>Vodafone</td>\n",
       "      <td>Vodafone Smart ultra 6</td>\n",
       "    </tr>\n",
       "    <tr>\n",
       "      <th>200</th>\n",
       "      <td>42.75</td>\n",
       "      <td>46.83</td>\n",
       "      <td>5191.12</td>\n",
       "      <td>23053</td>\n",
       "      <td>android</td>\n",
       "      <td>Vodafone Smart ultra 6</td>\n",
       "      <td>ZTE</td>\n",
       "      <td>Vodafone Smart ultra 6</td>\n",
       "    </tr>\n",
       "  </tbody>\n",
       "</table>\n",
       "<p>201 rows × 8 columns</p>\n",
       "</div>"
      ],
      "text/plain": [
       "     outgoing_mins_per_month  outgoing_sms_per_month  monthly_mb  use_id  \\\n",
       "0                      21.97                    4.82     1557.33   22787   \n",
       "1                    1710.08                  136.88     7267.55   22788   \n",
       "2                    1710.08                  136.88     7267.55   22789   \n",
       "3                      94.46                   35.17      519.12   22790   \n",
       "4                      71.59                   79.26     1557.33   22792   \n",
       "..                       ...                     ...         ...     ...   \n",
       "196                   106.65                   82.13     5191.12   23046   \n",
       "197                   106.65                   82.13     5191.12   23046   \n",
       "198                   344.53                   20.53      519.12   23049   \n",
       "199                    42.75                   46.83     5191.12   23053   \n",
       "200                    42.75                   46.83     5191.12   23053   \n",
       "\n",
       "    platform                  device  Branding                   Model  \n",
       "0    android                GT-I9505   Samsung                GT-I9505  \n",
       "1    android                SM-G930F   Samsung                SM-G930F  \n",
       "2    android                SM-G930F   Samsung                SM-G930F  \n",
       "3    android                   D2303      Sony                   D2303  \n",
       "4    android                SM-G361F   Samsung                SM-G361F  \n",
       "..       ...                     ...       ...                     ...  \n",
       "196  android              Moto G (4)  Motorola              Moto G (4)  \n",
       "197  android              Moto G (4)  Motorola              Moto G (4)  \n",
       "198  android                SM-G900F   Samsung                SM-G900F  \n",
       "199  android  Vodafone Smart ultra 6  Vodafone  Vodafone Smart ultra 6  \n",
       "200  android  Vodafone Smart ultra 6       ZTE  Vodafone Smart ultra 6  \n",
       "\n",
       "[201 rows x 8 columns]"
      ]
     },
     "execution_count": 5,
     "metadata": {},
     "output_type": "execute_result"
    }
   ],
   "source": [
    "dfKetQua = pd.merge(dfKetQua, thietbi[['Branding', \"Model\"]], left_on='device', right_on='Model')\n",
    "dfKetQua"
   ]
  },
  {
   "cell_type": "markdown",
   "metadata": {},
   "source": [
    "Câu 6: Hãy liệt kê 5 dòng đầu tiên các mẫu thiết bị (cột device) bắt đầu bằng GT"
   ]
  },
  {
   "cell_type": "code",
   "execution_count": 6,
   "metadata": {},
   "outputs": [
    {
     "data": {
      "text/html": [
       "<div>\n",
       "<style scoped>\n",
       "    .dataframe tbody tr th:only-of-type {\n",
       "        vertical-align: middle;\n",
       "    }\n",
       "\n",
       "    .dataframe tbody tr th {\n",
       "        vertical-align: top;\n",
       "    }\n",
       "\n",
       "    .dataframe thead th {\n",
       "        text-align: right;\n",
       "    }\n",
       "</style>\n",
       "<table border=\"1\" class=\"dataframe\">\n",
       "  <thead>\n",
       "    <tr style=\"text-align: right;\">\n",
       "      <th></th>\n",
       "      <th>outgoing_mins_per_month</th>\n",
       "      <th>outgoing_sms_per_month</th>\n",
       "      <th>monthly_mb</th>\n",
       "      <th>use_id</th>\n",
       "      <th>platform</th>\n",
       "      <th>device</th>\n",
       "      <th>Branding</th>\n",
       "      <th>Model</th>\n",
       "    </tr>\n",
       "  </thead>\n",
       "  <tbody>\n",
       "    <tr>\n",
       "      <th>0</th>\n",
       "      <td>21.97</td>\n",
       "      <td>4.82</td>\n",
       "      <td>1557.33</td>\n",
       "      <td>22787</td>\n",
       "      <td>android</td>\n",
       "      <td>GT-I9505</td>\n",
       "      <td>Samsung</td>\n",
       "      <td>GT-I9505</td>\n",
       "    </tr>\n",
       "    <tr>\n",
       "      <th>8</th>\n",
       "      <td>69.80</td>\n",
       "      <td>14.70</td>\n",
       "      <td>25955.55</td>\n",
       "      <td>22801</td>\n",
       "      <td>android</td>\n",
       "      <td>GT-I9505</td>\n",
       "      <td>Samsung</td>\n",
       "      <td>GT-I9505</td>\n",
       "    </tr>\n",
       "    <tr>\n",
       "      <th>10</th>\n",
       "      <td>189.10</td>\n",
       "      <td>24.08</td>\n",
       "      <td>519.12</td>\n",
       "      <td>22805</td>\n",
       "      <td>android</td>\n",
       "      <td>GT-I9195</td>\n",
       "      <td>Samsung</td>\n",
       "      <td>GT-I9195</td>\n",
       "    </tr>\n",
       "    <tr>\n",
       "      <th>29</th>\n",
       "      <td>85.97</td>\n",
       "      <td>26.94</td>\n",
       "      <td>407.01</td>\n",
       "      <td>22831</td>\n",
       "      <td>android</td>\n",
       "      <td>GT-I8190N</td>\n",
       "      <td>Samsung</td>\n",
       "      <td>GT-I8190N</td>\n",
       "    </tr>\n",
       "    <tr>\n",
       "      <th>52</th>\n",
       "      <td>29.54</td>\n",
       "      <td>34.78</td>\n",
       "      <td>33.79</td>\n",
       "      <td>22871</td>\n",
       "      <td>android</td>\n",
       "      <td>GT-I9300</td>\n",
       "      <td>Samsung</td>\n",
       "      <td>GT-I9300</td>\n",
       "    </tr>\n",
       "  </tbody>\n",
       "</table>\n",
       "</div>"
      ],
      "text/plain": [
       "    outgoing_mins_per_month  outgoing_sms_per_month  monthly_mb  use_id  \\\n",
       "0                     21.97                    4.82     1557.33   22787   \n",
       "8                     69.80                   14.70    25955.55   22801   \n",
       "10                   189.10                   24.08      519.12   22805   \n",
       "29                    85.97                   26.94      407.01   22831   \n",
       "52                    29.54                   34.78       33.79   22871   \n",
       "\n",
       "   platform     device Branding      Model  \n",
       "0   android   GT-I9505  Samsung   GT-I9505  \n",
       "8   android   GT-I9505  Samsung   GT-I9505  \n",
       "10  android   GT-I9195  Samsung   GT-I9195  \n",
       "29  android  GT-I8190N  Samsung  GT-I8190N  \n",
       "52  android   GT-I9300  Samsung   GT-I9300  "
      ]
     },
     "execution_count": 6,
     "metadata": {},
     "output_type": "execute_result"
    }
   ],
   "source": [
    "dfKetQua[dfKetQua.device.str.startswith('GT')].head(5)"
   ]
  },
  {
   "cell_type": "markdown",
   "metadata": {},
   "source": [
    "Câu 7: Hãy thống kê trung bình số phút hàng tháng, trung bình sms và trung bình data, số lượng \n",
    "sử dụng của các nhãn hàng"
   ]
  },
  {
   "cell_type": "code",
   "execution_count": 7,
   "metadata": {},
   "outputs": [
    {
     "data": {
      "text/html": [
       "<div>\n",
       "<style scoped>\n",
       "    .dataframe tbody tr th:only-of-type {\n",
       "        vertical-align: middle;\n",
       "    }\n",
       "\n",
       "    .dataframe tbody tr th {\n",
       "        vertical-align: top;\n",
       "    }\n",
       "\n",
       "    .dataframe thead th {\n",
       "        text-align: right;\n",
       "    }\n",
       "</style>\n",
       "<table border=\"1\" class=\"dataframe\">\n",
       "  <thead>\n",
       "    <tr style=\"text-align: right;\">\n",
       "      <th></th>\n",
       "      <th>outgoing_mins_per_month</th>\n",
       "      <th>outgoing_sms_per_month</th>\n",
       "      <th>monthly_mb</th>\n",
       "      <th>use_id</th>\n",
       "    </tr>\n",
       "    <tr>\n",
       "      <th>Branding</th>\n",
       "      <th></th>\n",
       "      <th></th>\n",
       "      <th></th>\n",
       "      <th></th>\n",
       "    </tr>\n",
       "  </thead>\n",
       "  <tbody>\n",
       "    <tr>\n",
       "      <th>HTC</th>\n",
       "      <td>299.842955</td>\n",
       "      <td>93.059318</td>\n",
       "      <td>5144.077955</td>\n",
       "      <td>44</td>\n",
       "    </tr>\n",
       "    <tr>\n",
       "      <th>Huawei</th>\n",
       "      <td>81.526667</td>\n",
       "      <td>9.500000</td>\n",
       "      <td>1561.226667</td>\n",
       "      <td>3</td>\n",
       "    </tr>\n",
       "    <tr>\n",
       "      <th>LGE</th>\n",
       "      <td>111.530000</td>\n",
       "      <td>12.760000</td>\n",
       "      <td>1557.330000</td>\n",
       "      <td>2</td>\n",
       "    </tr>\n",
       "    <tr>\n",
       "      <th>Lava</th>\n",
       "      <td>60.650000</td>\n",
       "      <td>261.900000</td>\n",
       "      <td>12458.670000</td>\n",
       "      <td>2</td>\n",
       "    </tr>\n",
       "    <tr>\n",
       "      <th>Lenovo</th>\n",
       "      <td>215.920000</td>\n",
       "      <td>12.930000</td>\n",
       "      <td>1557.330000</td>\n",
       "      <td>2</td>\n",
       "    </tr>\n",
       "    <tr>\n",
       "      <th>Motorola</th>\n",
       "      <td>95.127500</td>\n",
       "      <td>65.666250</td>\n",
       "      <td>3946.500000</td>\n",
       "      <td>16</td>\n",
       "    </tr>\n",
       "    <tr>\n",
       "      <th>OnePlus</th>\n",
       "      <td>354.855000</td>\n",
       "      <td>48.330000</td>\n",
       "      <td>6575.410000</td>\n",
       "      <td>6</td>\n",
       "    </tr>\n",
       "    <tr>\n",
       "      <th>Samsung</th>\n",
       "      <td>191.010093</td>\n",
       "      <td>92.390463</td>\n",
       "      <td>4017.318889</td>\n",
       "      <td>108</td>\n",
       "    </tr>\n",
       "    <tr>\n",
       "      <th>Sony</th>\n",
       "      <td>177.315625</td>\n",
       "      <td>40.176250</td>\n",
       "      <td>3212.000625</td>\n",
       "      <td>16</td>\n",
       "    </tr>\n",
       "    <tr>\n",
       "      <th>Vodafone</th>\n",
       "      <td>42.750000</td>\n",
       "      <td>46.830000</td>\n",
       "      <td>5191.120000</td>\n",
       "      <td>1</td>\n",
       "    </tr>\n",
       "    <tr>\n",
       "      <th>ZTE</th>\n",
       "      <td>42.750000</td>\n",
       "      <td>46.830000</td>\n",
       "      <td>5191.120000</td>\n",
       "      <td>1</td>\n",
       "    </tr>\n",
       "  </tbody>\n",
       "</table>\n",
       "</div>"
      ],
      "text/plain": [
       "          outgoing_mins_per_month  outgoing_sms_per_month    monthly_mb  \\\n",
       "Branding                                                                  \n",
       "HTC                    299.842955               93.059318   5144.077955   \n",
       "Huawei                  81.526667                9.500000   1561.226667   \n",
       "LGE                    111.530000               12.760000   1557.330000   \n",
       "Lava                    60.650000              261.900000  12458.670000   \n",
       "Lenovo                 215.920000               12.930000   1557.330000   \n",
       "Motorola                95.127500               65.666250   3946.500000   \n",
       "OnePlus                354.855000               48.330000   6575.410000   \n",
       "Samsung                191.010093               92.390463   4017.318889   \n",
       "Sony                   177.315625               40.176250   3212.000625   \n",
       "Vodafone                42.750000               46.830000   5191.120000   \n",
       "ZTE                     42.750000               46.830000   5191.120000   \n",
       "\n",
       "          use_id  \n",
       "Branding          \n",
       "HTC           44  \n",
       "Huawei         3  \n",
       "LGE            2  \n",
       "Lava           2  \n",
       "Lenovo         2  \n",
       "Motorola      16  \n",
       "OnePlus        6  \n",
       "Samsung      108  \n",
       "Sony          16  \n",
       "Vodafone       1  \n",
       "ZTE            1  "
      ]
     },
     "execution_count": 7,
     "metadata": {},
     "output_type": "execute_result"
    }
   ],
   "source": [
    "dfKetQua.groupby('Branding').agg({\n",
    "    'outgoing_mins_per_month' : 'mean',\n",
    "    'outgoing_sms_per_month' : 'mean',\n",
    "    'monthly_mb' : 'mean',\n",
    "    'use_id' : 'count'\n",
    "})"
   ]
  },
  {
   "cell_type": "markdown",
   "metadata": {},
   "source": [
    "Câu 8: Trực quan số lượng người dùng các nhãn hàng"
   ]
  },
  {
   "cell_type": "code",
   "execution_count": 8,
   "metadata": {},
   "outputs": [
    {
     "name": "stderr",
     "output_type": "stream",
     "text": [
      "Matplotlib created a temporary cache directory at C:\\Users\\FPT-ACER\\AppData\\Local\\Temp\\matplotlib-7auhhchp because the default path (C:\\Users\\FPT-ACER\\.matplotlib) is not a writable directory; it is highly recommended to set the MPLCONFIGDIR environment variable to a writable directory, in particular to speed up the import of Matplotlib and to better support multiprocessing.\n"
     ]
    }
   ],
   "source": [
    "import seaborn as sns\n",
    "import matplotlib.pyplot as plt"
   ]
  },
  {
   "cell_type": "code",
   "execution_count": 9,
   "metadata": {},
   "outputs": [
    {
     "data": {
      "image/png": "[encoded data removed]",
      "text/plain": [
       "<Figure size 640x480 with 1 Axes>"
      ]
     },
     "metadata": {},
     "output_type": "display_data"
    }
   ],
   "source": [
    "sns.countplot(y='Branding',hue='Branding', data=dfKetQua)\n",
    "plt.show()"
   ]
  },
  {
   "cell_type": "markdown",
   "metadata": {},
   "source": [
    "Câu 9: Trực quan hóa dữ liệu trung bình phút gọi, trung bình sms và dung lượng sử dụng trên \n",
    "từng nhóm nhãn hàng bán lẻ "
   ]
  },
  {
   "cell_type": "code",
   "execution_count": 10,
   "metadata": {},
   "outputs": [],
   "source": [
    "import numpy as np"
   ]
  },
  {
   "cell_type": "code",
   "execution_count": 11,
   "metadata": {},
   "outputs": [
    {
     "data": {
      "image/png": "[encoded data removed]",
      "text/plain": [
       "<Figure size 640x480 with 1 Axes>"
      ]
     },
     "metadata": {},
     "output_type": "display_data"
    }
   ],
   "source": [
    "sns.barplot(x='outgoing_mins_per_month', y='Branding', hue='Branding', errorbar=None, data=dfKetQua)\n",
    "plt.show()"
   ]
  },
  {
   "cell_type": "markdown",
   "metadata": {},
   "source": [
    "Câu 10: Khảo sát tương quan giữa phút gọi, sms và dung lượng trên từng nhóm nhãn hàng"
   ]
  },
  {
   "cell_type": "code",
   "execution_count": 12,
   "metadata": {},
   "outputs": [
    {
     "data": {
      "image/png": "[encoded data removed]",
      "text/plain": [
       "<Figure size 640x480 with 1 Axes>"
      ]
     },
     "metadata": {},
     "output_type": "display_data"
    }
   ],
   "source": [
    "sns.scatterplot(\n",
    "    data=dfKetQua,\n",
    "    y='outgoing_sms_per_month',\n",
    "    x='outgoing_mins_per_month',\n",
    "    hue='Branding', \n",
    "    size='monthly_mb'\n",
    ")\n",
    "plt.show()"
   ]
  },
  {
   "cell_type": "markdown",
   "metadata": {},
   "source": [
    "Câu 11: Hãy kiểm định xem trung bình outgoing_mins_per_month có bằng 200 phút"
   ]
  },
  {
   "cell_type": "code",
   "execution_count": 13,
   "metadata": {},
   "outputs": [],
   "source": [
    "from statsmodels.stats.weightstats import ztest as ztest"
   ]
  },
  {
   "cell_type": "code",
   "execution_count": 14,
   "metadata": {},
   "outputs": [
    {
     "data": {
      "text/plain": [
       "(np.float64(0.3678324474067915), np.float64(0.7129981730830808))"
      ]
     },
     "execution_count": 14,
     "metadata": {},
     "output_type": "execute_result"
    }
   ],
   "source": [
    "ztest(dfKetQua['outgoing_mins_per_month'], value=200)"
   ]
  },
  {
   "cell_type": "markdown",
   "metadata": {},
   "source": [
    "- Do pvalue > α nên không bác bỏ Ho rằng trung bình outgoing_mins_per_month bằng 200. Chưa đủ dữ kiện để khẳng định trung bình trung bình outgoing_mins_per_month khác 200."
   ]
  },
  {
   "cell_type": "markdown",
   "metadata": {},
   "source": [
    "Câu 12:  Hãy kiểm định xem trung bình outgoing_sms_per_month có bằng 100 tin nhắn"
   ]
  },
  {
   "cell_type": "code",
   "execution_count": 15,
   "metadata": {},
   "outputs": [
    {
     "data": {
      "text/plain": [
       "(np.float64(-2.9567085781961198), np.float64(0.0031094184670620866))"
      ]
     },
     "execution_count": 15,
     "metadata": {},
     "output_type": "execute_result"
    }
   ],
   "source": [
    "ztest(dfKetQua['outgoing_sms_per_month'], value=100)"
   ]
  },
  {
   "cell_type": "markdown",
   "metadata": {},
   "source": [
    "- Do pvalue <= α nên bác bỏ Ho rằng trung bình outgoing_sms_per_month bằng 100. Đủ bằng chứng thống kê cho thấy trung bình của cột này khác 100"
   ]
  },
  {
   "cell_type": "markdown",
   "metadata": {},
   "source": [
    "Câu 13: Hãy kiểm định xem trung bình monthly_mb có bằng 2048 mb"
   ]
  },
  {
   "cell_type": "code",
   "execution_count": 16,
   "metadata": {},
   "outputs": [
    {
     "data": {
      "text/plain": [
       "(np.float64(5.918078326415772), np.float64(3.257248511198872e-09))"
      ]
     },
     "execution_count": 16,
     "metadata": {},
     "output_type": "execute_result"
    }
   ],
   "source": [
    "ztest(dfKetQua['monthly_mb'], value=2048)"
   ]
  },
  {
   "cell_type": "markdown",
   "metadata": {},
   "source": [
    "- Do pvalue <= α nên bác bỏ Ho rằng trung bình monthly_mb bằng 2048. Đủ bằng chứng thống kê cho thấy trung bình của cột này khác 2048"
   ]
  },
  {
   "cell_type": "markdown",
   "metadata": {},
   "source": [
    "Câu 14: Hãy tạo ma trận tương quan giữa [outgoing_mins_per_month, outgoing_sms_per_month, \n",
    "monthly_mb] và sắp xếp tăng dần về mức độ tương quan"
   ]
  },
  {
   "cell_type": "code",
   "execution_count": 17,
   "metadata": {},
   "outputs": [
    {
     "data": {
      "text/html": [
       "<div>\n",
       "<style scoped>\n",
       "    .dataframe tbody tr th:only-of-type {\n",
       "        vertical-align: middle;\n",
       "    }\n",
       "\n",
       "    .dataframe tbody tr th {\n",
       "        vertical-align: top;\n",
       "    }\n",
       "\n",
       "    .dataframe thead th {\n",
       "        text-align: right;\n",
       "    }\n",
       "</style>\n",
       "<table border=\"1\" class=\"dataframe\">\n",
       "  <thead>\n",
       "    <tr style=\"text-align: right;\">\n",
       "      <th></th>\n",
       "      <th>outgoing_mins_per_month</th>\n",
       "      <th>outgoing_sms_per_month</th>\n",
       "      <th>monthly_mb</th>\n",
       "    </tr>\n",
       "  </thead>\n",
       "  <tbody>\n",
       "    <tr>\n",
       "      <th>outgoing_mins_per_month</th>\n",
       "      <td>1.000000</td>\n",
       "      <td>-0.016494</td>\n",
       "      <td>0.213489</td>\n",
       "    </tr>\n",
       "    <tr>\n",
       "      <th>outgoing_sms_per_month</th>\n",
       "      <td>-0.016494</td>\n",
       "      <td>1.000000</td>\n",
       "      <td>-0.046049</td>\n",
       "    </tr>\n",
       "    <tr>\n",
       "      <th>monthly_mb</th>\n",
       "      <td>0.213489</td>\n",
       "      <td>-0.046049</td>\n",
       "      <td>1.000000</td>\n",
       "    </tr>\n",
       "  </tbody>\n",
       "</table>\n",
       "</div>"
      ],
      "text/plain": [
       "                         outgoing_mins_per_month  outgoing_sms_per_month  \\\n",
       "outgoing_mins_per_month                 1.000000               -0.016494   \n",
       "outgoing_sms_per_month                 -0.016494                1.000000   \n",
       "monthly_mb                              0.213489               -0.046049   \n",
       "\n",
       "                         monthly_mb  \n",
       "outgoing_mins_per_month    0.213489  \n",
       "outgoing_sms_per_month    -0.046049  \n",
       "monthly_mb                 1.000000  "
      ]
     },
     "execution_count": 17,
     "metadata": {},
     "output_type": "execute_result"
    }
   ],
   "source": [
    "dfKetQua[['outgoing_mins_per_month','outgoing_sms_per_month','monthly_mb']].corr()"
   ]
  },
  {
   "cell_type": "code",
   "execution_count": null,
   "metadata": {},
   "outputs": [],
   "source": []
  },
  {
   "cell_type": "markdown",
   "metadata": {},
   "source": [
    "Câu 15: Kiểm định xem outgoing_mins_per_month, outgoing_sms_per_month có tương quan"
   ]
  },
  {
   "cell_type": "code",
   "execution_count": 18,
   "metadata": {},
   "outputs": [
    {
     "name": "stderr",
     "output_type": "stream",
     "text": [
      "C:\\Users\\FPT-ACER\\AppData\\Local\\Temp\\ipykernel_28112\\4005289447.py:1: DeprecationWarning: Please import `pearsonr` from the `scipy.stats` namespace; the `scipy.stats.stats` namespace is deprecated and will be removed in SciPy 2.0.0.\n",
      "  from scipy.stats.stats import pearsonr\n"
     ]
    }
   ],
   "source": [
    "from scipy.stats.stats import pearsonr"
   ]
  },
  {
   "cell_type": "code",
   "execution_count": 19,
   "metadata": {},
   "outputs": [
    {
     "data": {
      "text/plain": [
       "PearsonRResult(statistic=np.float64(-0.01649444168531939), pvalue=np.float64(0.8162223636414785))"
      ]
     },
     "execution_count": 19,
     "metadata": {},
     "output_type": "execute_result"
    }
   ],
   "source": [
    "pearsonr(dfKetQua['outgoing_mins_per_month'], dfKetQua['outgoing_sms_per_month'])"
   ]
  },
  {
   "cell_type": "markdown",
   "metadata": {},
   "source": [
    "- Do pvalue > α nên không bác bỏ Ho. Không đủ dữ kiện kết luận có sự tương quan tuyến tính giữa 2 biến"
   ]
  },
  {
   "cell_type": "code",
   "execution_count": 20,
   "metadata": {},
   "outputs": [],
   "source": [
    "# Quyết định:\n",
    "# Nếu p_value < alpha (thường là 0.05), bạn bác bỏ giả thuyết không và kết luận rằng có mối tương quan có ý nghĩa thống kê giữa hai biến.\n",
    "# Nếu p_value >= alpha, bạn không bác bỏ giả thuyết không và kết luận rằng không có mối tương quan có ý nghĩa thống kê giữa hai biến."
   ]
  },
  {
   "cell_type": "markdown",
   "metadata": {},
   "source": [
    "Câu 16: Hãy kiểm định xem có mối quan hệ nào giữa platform và branding"
   ]
  },
  {
   "cell_type": "code",
   "execution_count": 21,
   "metadata": {},
   "outputs": [
    {
     "data": {
      "text/html": [
       "<div>\n",
       "<style scoped>\n",
       "    .dataframe tbody tr th:only-of-type {\n",
       "        vertical-align: middle;\n",
       "    }\n",
       "\n",
       "    .dataframe tbody tr th {\n",
       "        vertical-align: top;\n",
       "    }\n",
       "\n",
       "    .dataframe thead th {\n",
       "        text-align: right;\n",
       "    }\n",
       "</style>\n",
       "<table border=\"1\" class=\"dataframe\">\n",
       "  <thead>\n",
       "    <tr style=\"text-align: right;\">\n",
       "      <th>Branding</th>\n",
       "      <th>HTC</th>\n",
       "      <th>Huawei</th>\n",
       "      <th>LGE</th>\n",
       "      <th>Lava</th>\n",
       "      <th>Lenovo</th>\n",
       "      <th>Motorola</th>\n",
       "      <th>OnePlus</th>\n",
       "      <th>Samsung</th>\n",
       "      <th>Sony</th>\n",
       "      <th>Vodafone</th>\n",
       "      <th>ZTE</th>\n",
       "    </tr>\n",
       "    <tr>\n",
       "      <th>platform</th>\n",
       "      <th></th>\n",
       "      <th></th>\n",
       "      <th></th>\n",
       "      <th></th>\n",
       "      <th></th>\n",
       "      <th></th>\n",
       "      <th></th>\n",
       "      <th></th>\n",
       "      <th></th>\n",
       "      <th></th>\n",
       "      <th></th>\n",
       "    </tr>\n",
       "  </thead>\n",
       "  <tbody>\n",
       "    <tr>\n",
       "      <th>android</th>\n",
       "      <td>44</td>\n",
       "      <td>3</td>\n",
       "      <td>2</td>\n",
       "      <td>2</td>\n",
       "      <td>2</td>\n",
       "      <td>16</td>\n",
       "      <td>6</td>\n",
       "      <td>108</td>\n",
       "      <td>16</td>\n",
       "      <td>1</td>\n",
       "      <td>1</td>\n",
       "    </tr>\n",
       "  </tbody>\n",
       "</table>\n",
       "</div>"
      ],
      "text/plain": [
       "Branding  HTC  Huawei  LGE  Lava  Lenovo  Motorola  OnePlus  Samsung  Sony  \\\n",
       "platform                                                                     \n",
       "android    44       3    2     2       2        16        6      108    16   \n",
       "\n",
       "Branding  Vodafone  ZTE  \n",
       "platform                 \n",
       "android          1    1  "
      ]
     },
     "execution_count": 21,
     "metadata": {},
     "output_type": "execute_result"
    }
   ],
   "source": [
    "crosdata = pd.crosstab(dfKetQua['platform'], [dfKetQua['Branding']], rownames=['platform'], colnames=['Branding'])\n",
    "crosdata"
   ]
  },
  {
   "cell_type": "code",
   "execution_count": 22,
   "metadata": {},
   "outputs": [],
   "source": [
    "from scipy.stats import chi2_contingency"
   ]
  },
  {
   "cell_type": "code",
   "execution_count": 23,
   "metadata": {},
   "outputs": [
    {
     "name": "stdout",
     "output_type": "stream",
     "text": [
      "p value is 1.0\n",
      "Independent (H0 holds true)\n"
     ]
    }
   ],
   "source": [
    "stat, p, dof, expected = chi2_contingency(crosdata)\n",
    "\n",
    "alpha = 0.05\n",
    "print(\"p value is \" + str(p))\n",
    "if p < alpha:\n",
    "    print('Dependent (reject H0)')\n",
    "else:\n",
    "    print('Independent (H0 holds true)')"
   ]
  },
  {
   "cell_type": "code",
   "execution_count": 24,
   "metadata": {},
   "outputs": [
    {
     "name": "stdout",
     "output_type": "stream",
     "text": [
      "Chi-square statistic: 0.0\n",
      "Giá trị P-value: 1.0\n",
      "Degrees of freedom: 0\n",
      "Expected frequencies:\n",
      "[[ 44.   3.   2.   2.   2.  16.   6. 108.  16.   1.   1.]]\n",
      "Không có mối quan hệ có ý nghĩa thống kê giữa platform và branding.\n"
     ]
    }
   ],
   "source": [
    "\n",
    "from scipy.stats import chi2_contingency\n",
    "\n",
    "# Giả sử dfKetQua là một DataFrame chứa dữ liệu\n",
    "# Đọc dữ liệu từ file CSV hoặc DataFrame\n",
    "# dfKetQua = pd.read_csv('path_to_your_file.csv')\n",
    "\n",
    "# Tạo bảng chéo giữa platform và branding\n",
    "contingency_table = pd.crosstab(dfKetQua['platform'], dfKetQua['Branding'])\n",
    "\n",
    "# Thực hiện kiểm định chi bình phương\n",
    "chi2, p, dof, expected = chi2_contingency(contingency_table)\n",
    "\n",
    "print(f\"Chi-square statistic: {chi2}\")\n",
    "print(f\"Giá trị P-value: {p}\")\n",
    "print(f\"Degrees of freedom: {dof}\")\n",
    "print(\"Expected frequencies:\")\n",
    "print(expected)\n",
    "\n",
    "# Kiểm định giả thuyết\n",
    "alpha = 0.05\n",
    "if p < alpha:\n",
    "    print(\"Có mối quan hệ có ý nghĩa thống kê giữa platform và branding.\")\n",
    "else:\n",
    "    print(\"Không có mối quan hệ có ý nghĩa thống kê giữa platform và branding.\")"
   ]
  },
  {
   "cell_type": "markdown",
   "metadata": {},
   "source": [
    "Câu 17: Hãy kiểm định xem có mối quan hệ nào giữa monthly_mb và platform"
   ]
  },
  {
   "cell_type": "code",
   "execution_count": 25,
   "metadata": {},
   "outputs": [
    {
     "name": "stdout",
     "output_type": "stream",
     "text": [
      "p value is 1.0\n",
      "Independent (H0 holds true)\n"
     ]
    }
   ],
   "source": [
    "crosdata2 = pd.crosstab(dfKetQua['monthly_mb'], [dfKetQua['platform']], rownames=['monthly_mb'], colnames=['platform'])\n",
    "\n",
    "stat, p, dof, expected = chi2_contingency(crosdata2)\n",
    "\n",
    "alpha = 0.05\n",
    "print(\"p value is \" + str(p))\n",
    "if p <= alpha:\n",
    "    print('Dependent (reject H0)')\n",
    "else:\n",
    "    print('Independent (H0 holds true)')"
   ]
  },
  {
   "cell_type": "markdown",
   "metadata": {},
   "source": [
    "Câu 18: Hãy kiểm định xem có mối quan hệ nào giữa monthly_mb và platform theo loại branding"
   ]
  },
  {
   "cell_type": "code",
   "execution_count": 32,
   "metadata": {},
   "outputs": [
    {
     "ename": "KeyError",
     "evalue": "'branding'",
     "output_type": "error",
     "traceback": [
      "\u001b[1;31m---------------------------------------------------------------------------\u001b[0m",
      "\u001b[1;31mKeyError\u001b[0m                                  Traceback (most recent call last)",
      "File \u001b[1;32m~\\AppData\\Roaming\\Python\\Python312\\site-packages\\pandas\\core\\indexes\\base.py:3805\u001b[0m, in \u001b[0;36mIndex.get_loc\u001b[1;34m(self, key)\u001b[0m\n\u001b[0;32m   3804\u001b[0m \u001b[38;5;28;01mtry\u001b[39;00m:\n\u001b[1;32m-> 3805\u001b[0m     \u001b[38;5;28;01mreturn\u001b[39;00m \u001b[38;5;28;43mself\u001b[39;49m\u001b[38;5;241;43m.\u001b[39;49m\u001b[43m_engine\u001b[49m\u001b[38;5;241;43m.\u001b[39;49m\u001b[43mget_loc\u001b[49m\u001b[43m(\u001b[49m\u001b[43mcasted_key\u001b[49m\u001b[43m)\u001b[49m\n\u001b[0;32m   3806\u001b[0m \u001b[38;5;28;01mexcept\u001b[39;00m \u001b[38;5;167;01mKeyError\u001b[39;00m \u001b[38;5;28;01mas\u001b[39;00m err:\n",
      "File \u001b[1;32mindex.pyx:167\u001b[0m, in \u001b[0;36mpandas._libs.index.IndexEngine.get_loc\u001b[1;34m()\u001b[0m\n",
      "File \u001b[1;32mindex.pyx:196\u001b[0m, in \u001b[0;36mpandas._libs.index.IndexEngine.get_loc\u001b[1;34m()\u001b[0m\n",
      "File \u001b[1;32mpandas\\\\_libs\\\\hashtable_class_helper.pxi:7081\u001b[0m, in \u001b[0;36mpandas._libs.hashtable.PyObjectHashTable.get_item\u001b[1;34m()\u001b[0m\n",
      "File \u001b[1;32mpandas\\\\_libs\\\\hashtable_class_helper.pxi:7089\u001b[0m, in \u001b[0;36mpandas._libs.hashtable.PyObjectHashTable.get_item\u001b[1;34m()\u001b[0m\n",
      "\u001b[1;31mKeyError\u001b[0m: 'branding'",
      "\nThe above exception was the direct cause of the following exception:\n",
      "\u001b[1;31mKeyError\u001b[0m                                  Traceback (most recent call last)",
      "Cell \u001b[1;32mIn[32], line 9\u001b[0m\n\u001b[0;32m      2\u001b[0m \u001b[38;5;28;01mfrom\u001b[39;00m \u001b[38;5;21;01mscipy\u001b[39;00m\u001b[38;5;21;01m.\u001b[39;00m\u001b[38;5;21;01mstats\u001b[39;00m \u001b[38;5;28;01mimport\u001b[39;00m f_oneway\n\u001b[0;32m      4\u001b[0m \u001b[38;5;66;03m# Giả sử dfKetQua là một DataFrame chứa dữ liệu\u001b[39;00m\n\u001b[0;32m      5\u001b[0m \u001b[38;5;66;03m# Đọc dữ liệu từ file CSV hoặc DataFrame\u001b[39;00m\n\u001b[0;32m      6\u001b[0m \u001b[38;5;66;03m# dfKetQua = pd.read_csv('path_to_your_file.csv')\u001b[39;00m\n\u001b[0;32m      7\u001b[0m \n\u001b[0;32m      8\u001b[0m \u001b[38;5;66;03m# Lấy danh sách các loại branding\u001b[39;00m\n\u001b[1;32m----> 9\u001b[0m branding_types \u001b[38;5;241m=\u001b[39m \u001b[43mdfKetQua\u001b[49m\u001b[43m[\u001b[49m\u001b[38;5;124;43m'\u001b[39;49m\u001b[38;5;124;43mbranding\u001b[39;49m\u001b[38;5;124;43m'\u001b[39;49m\u001b[43m]\u001b[49m\u001b[38;5;241m.\u001b[39munique()\n\u001b[0;32m     11\u001b[0m \u001b[38;5;66;03m# Thực hiện kiểm định ANOVA cho từng loại branding\u001b[39;00m\n\u001b[0;32m     12\u001b[0m \u001b[38;5;28;01mfor\u001b[39;00m branding \u001b[38;5;129;01min\u001b[39;00m branding_types:\n\u001b[0;32m     13\u001b[0m     \u001b[38;5;66;03m# Lọc dữ liệu theo loại branding\u001b[39;00m\n",
      "File \u001b[1;32m~\\AppData\\Roaming\\Python\\Python312\\site-packages\\pandas\\core\\frame.py:4102\u001b[0m, in \u001b[0;36mDataFrame.__getitem__\u001b[1;34m(self, key)\u001b[0m\n\u001b[0;32m   4100\u001b[0m \u001b[38;5;28;01mif\u001b[39;00m \u001b[38;5;28mself\u001b[39m\u001b[38;5;241m.\u001b[39mcolumns\u001b[38;5;241m.\u001b[39mnlevels \u001b[38;5;241m>\u001b[39m \u001b[38;5;241m1\u001b[39m:\n\u001b[0;32m   4101\u001b[0m     \u001b[38;5;28;01mreturn\u001b[39;00m \u001b[38;5;28mself\u001b[39m\u001b[38;5;241m.\u001b[39m_getitem_multilevel(key)\n\u001b[1;32m-> 4102\u001b[0m indexer \u001b[38;5;241m=\u001b[39m \u001b[38;5;28;43mself\u001b[39;49m\u001b[38;5;241;43m.\u001b[39;49m\u001b[43mcolumns\u001b[49m\u001b[38;5;241;43m.\u001b[39;49m\u001b[43mget_loc\u001b[49m\u001b[43m(\u001b[49m\u001b[43mkey\u001b[49m\u001b[43m)\u001b[49m\n\u001b[0;32m   4103\u001b[0m \u001b[38;5;28;01mif\u001b[39;00m is_integer(indexer):\n\u001b[0;32m   4104\u001b[0m     indexer \u001b[38;5;241m=\u001b[39m [indexer]\n",
      "File \u001b[1;32m~\\AppData\\Roaming\\Python\\Python312\\site-packages\\pandas\\core\\indexes\\base.py:3812\u001b[0m, in \u001b[0;36mIndex.get_loc\u001b[1;34m(self, key)\u001b[0m\n\u001b[0;32m   3807\u001b[0m     \u001b[38;5;28;01mif\u001b[39;00m \u001b[38;5;28misinstance\u001b[39m(casted_key, \u001b[38;5;28mslice\u001b[39m) \u001b[38;5;129;01mor\u001b[39;00m (\n\u001b[0;32m   3808\u001b[0m         \u001b[38;5;28misinstance\u001b[39m(casted_key, abc\u001b[38;5;241m.\u001b[39mIterable)\n\u001b[0;32m   3809\u001b[0m         \u001b[38;5;129;01mand\u001b[39;00m \u001b[38;5;28many\u001b[39m(\u001b[38;5;28misinstance\u001b[39m(x, \u001b[38;5;28mslice\u001b[39m) \u001b[38;5;28;01mfor\u001b[39;00m x \u001b[38;5;129;01min\u001b[39;00m casted_key)\n\u001b[0;32m   3810\u001b[0m     ):\n\u001b[0;32m   3811\u001b[0m         \u001b[38;5;28;01mraise\u001b[39;00m InvalidIndexError(key)\n\u001b[1;32m-> 3812\u001b[0m     \u001b[38;5;28;01mraise\u001b[39;00m \u001b[38;5;167;01mKeyError\u001b[39;00m(key) \u001b[38;5;28;01mfrom\u001b[39;00m \u001b[38;5;21;01merr\u001b[39;00m\n\u001b[0;32m   3813\u001b[0m \u001b[38;5;28;01mexcept\u001b[39;00m \u001b[38;5;167;01mTypeError\u001b[39;00m:\n\u001b[0;32m   3814\u001b[0m     \u001b[38;5;66;03m# If we have a listlike key, _check_indexing_error will raise\u001b[39;00m\n\u001b[0;32m   3815\u001b[0m     \u001b[38;5;66;03m#  InvalidIndexError. Otherwise we fall through and re-raise\u001b[39;00m\n\u001b[0;32m   3816\u001b[0m     \u001b[38;5;66;03m#  the TypeError.\u001b[39;00m\n\u001b[0;32m   3817\u001b[0m     \u001b[38;5;28mself\u001b[39m\u001b[38;5;241m.\u001b[39m_check_indexing_error(key)\n",
      "\u001b[1;31mKeyError\u001b[0m: 'branding'"
     ]
    }
   ],
   "source": [
    "import pandas as pd\n",
    "from scipy.stats import f_oneway\n",
    "\n",
    "# Giả sử dfKetQua là một DataFrame chứa dữ liệu\n",
    "# Đọc dữ liệu từ file CSV hoặc DataFrame\n",
    "# dfKetQua = pd.read_csv('path_to_your_file.csv')\n",
    "\n",
    "# Lấy danh sách các loại branding\n",
    "branding_types = dfKetQua['Branding'].unique()\n",
    "\n",
    "# Thực hiện kiểm định ANOVA cho từng loại branding\n",
    "for branding in branding_types:\n",
    "    # Lọc dữ liệu theo loại branding\n",
    "    df_branding = dfKetQua[dfKetQua['Branding'] == branding]\n",
    "    \n",
    "    # Lấy danh sách các nhóm platform\n",
    "    platforms = df_branding['platform'].unique()\n",
    "    \n",
    "    # Tạo danh sách các nhóm dữ liệu monthly_mb theo platform\n",
    "    groups = [df_branding[df_branding['platform'] == platform]['monthly_mb'] for platform in platforms]\n",
    "    \n",
    "    # Thực hiện kiểm định ANOVA\n",
    "    f_stat, p_value = f_oneway(*groups)\n",
    "    \n",
    "    print(f\"Branding: {branding}\")\n",
    "    print(f\"F-statistic: {f_stat}\")\n",
    "    print(f\"Giá trị P-value: {p_value}\")\n",
    "    \n",
    "    # Kiểm định giả thuyết\n",
    "    alpha = 0.05\n",
    "    if p_value < alpha:\n",
    "        print(\"Có mối quan hệ có ý nghĩa thống kê giữa monthly_mb và platform trong loại branding này.\")\n",
    "    else:\n",
    "        print(\"Không có mối quan hệ có ý nghĩa thống kê giữa monthly_mb và platform trong loại branding này.\")\n",
    "    print(\"\\n\")"
   ]
  },
  {
   "cell_type": "code",
   "execution_count": 26,
   "metadata": {},
   "outputs": [],
   "source": [
    "import statsmodels.api as sm\n",
    "from statsmodels.formula.api import ols"
   ]
  },
  {
   "cell_type": "code",
   "execution_count": 27,
   "metadata": {},
   "outputs": [
    {
     "name": "stdout",
     "output_type": "stream",
     "text": [
      "                      df        sum_sq       mean_sq         F    PR(>F)\n",
      "platform             0.0  0.000000e+00           NaN       NaN       NaN\n",
      "Branding            10.0  2.792153e+08  2.792153e+07  0.974799  0.466796\n",
      "platform:Branding    0.0  0.000000e+00           NaN       NaN       NaN\n",
      "Residual           190.0  5.442239e+09  2.864336e+07       NaN       NaN\n"
     ]
    }
   ],
   "source": [
    "model = ols('monthly_mb ~ platform + Branding + platform:Branding', data=dfKetQua).fit()\n",
    "result = sm.stats.anova_lm(model, type=2)\n",
    "print(result)"
   ]
  },
  {
   "cell_type": "markdown",
   "metadata": {},
   "source": [
    "- Do pvalue > α => Branding không ảnh hưởng lớn đến monthly_mb\n",
    "- platform và platform:Branding có pvalue là NaN => không có ảnh hưởng "
   ]
  },
  {
   "cell_type": "markdown",
   "metadata": {},
   "source": [
    "Câu 19: Phân tích sự ảnh hưởng của outgoing_mins_per_month, outgoing_sms_per_month đến\n",
    "monthly_mb dựa trên mô hình hồi quy tuyến tính"
   ]
  },
  {
   "cell_type": "code",
   "execution_count": 28,
   "metadata": {},
   "outputs": [],
   "source": [
    "import statsmodels.api as sm"
   ]
  },
  {
   "cell_type": "code",
   "execution_count": 29,
   "metadata": {},
   "outputs": [
    {
     "name": "stdout",
     "output_type": "stream",
     "text": [
      "                            OLS Regression Results                            \n",
      "==============================================================================\n",
      "Dep. Variable:                      y   R-squared:                       0.047\n",
      "Model:                            OLS   Adj. R-squared:                  0.038\n",
      "Method:                 Least Squares   F-statistic:                     4.925\n",
      "Date:                Sat, 05 Oct 2024   Prob (F-statistic):            0.00818\n",
      "Time:                        23:29:13   Log-Likelihood:                -2005.3\n",
      "No. Observations:                 201   AIC:                             4017.\n",
      "Df Residuals:                     198   BIC:                             4027.\n",
      "Df Model:                           2                                         \n",
      "Covariance Type:            nonrobust                                         \n",
      "==============================================================================\n",
      "                 coef    std err          t      P>|t|      [0.025      0.975]\n",
      "------------------------------------------------------------------------------\n",
      "const       3513.0441    631.350      5.564      0.000    2268.010    4758.078\n",
      "x1             4.8782      1.590      3.067      0.002       1.742       8.014\n",
      "x2            -2.8500      4.648     -0.613      0.540     -12.016       6.316\n",
      "==============================================================================\n",
      "Omnibus:                      107.866   Durbin-Watson:                   1.330\n",
      "Prob(Omnibus):                  0.000   Jarque-Bera (JB):              429.093\n",
      "Skew:                           2.237   Prob(JB):                     6.66e-94\n",
      "Kurtosis:                       8.587   Cond. No.                         539.\n",
      "==============================================================================\n",
      "\n",
      "Notes:\n",
      "[1] Standard Errors assume that the covariance matrix of the errors is correctly specified.\n"
     ]
    }
   ],
   "source": [
    "X_with_constant = sm.add_constant(dfKetQua[['outgoing_mins_per_month','outgoing_sms_per_month']].values)\n",
    "y = dfKetQua[['monthly_mb']].values\n",
    "result = sm.OLS(y, X_with_constant).fit()\n",
    "print(result.summary())\n",
    "\n"
   ]
  },
  {
   "cell_type": "markdown",
   "metadata": {},
   "source": [
    "Kết quả - Kết luận:\n",
    "- R-squared ~ 4,7% sự biến thiên của monthly_mb => mô hình chưa giải thích được nhiều sự biến thiên trong các biến phụ thuộc\n",
    "- Prob (F-statistic):0.00818 <= α cho thấy mô hình hồi quy có ý nghĩa thống kê, tức là ít nhất một trong các biến độc lập có ảnh hưởng đáng kể đến biến phụ thuộc.\n",
    "\n",
    "- P>|t| của x1 ~ 0.002 < α => Có sự ảnh hưởng lớn của outgoing_mins_per_month đến monthly_mb\n",
    "- P>|t| của x2 ~ 0.54 >= α => Không có sự ảnh hưởng lớn của outgoing_sms_per_month đến monthly_mb"
   ]
  },
  {
   "cell_type": "markdown",
   "metadata": {},
   "source": [
    "Câu 20: Dựa trên mô hình hồi quy tuyến tính hãy cho biết nếu outgoing_mins_per_month,\n",
    "outgoing_sms_per_month lần lượt là 50 phút, 75 tin nhắn thì tháng đó người dùng sẽ tiêu\n",
    "hao bao nhiêu dung lượng internet (mb) cho quá trình sử dụng.\n",
    "\n",
    "Giải: 3513.0441 + 4.8782 * 50 - 2.8500 * 75 = 3543.2041"
   ]
  },
  {
   "cell_type": "markdown",
   "metadata": {},
   "source": [
    "Xây dựng phần mềm"
   ]
  },
  {
   "cell_type": "code",
   "execution_count": 30,
   "metadata": {},
   "outputs": [],
   "source": [
    "def predict_monthly_mb(a, b):\n",
    "    return 3513.0441 + 4.8782*a -2.8500*b\n",
    "\n",
    "def main():\n",
    "    num1 = float(input(\"Nhập outgoing_mins_per_month: \"))\n",
    "    num2 = float(input(\"Nhập outgoing_sms_per_month: \"))\n",
    "    result = predict_monthly_mb(num1, num2)\n",
    "    print(result)"
   ]
  },
  {
   "cell_type": "code",
   "execution_count": 31,
   "metadata": {
    "vscode": {
     "languageId": "powershell"
    }
   },
   "outputs": [
    {
     "ename": "ValueError",
     "evalue": "could not convert string to float: ''",
     "output_type": "error",
     "traceback": [
      "\u001b[1;31m---------------------------------------------------------------------------\u001b[0m",
      "\u001b[1;31mValueError\u001b[0m                                Traceback (most recent call last)",
      "Cell \u001b[1;32mIn[31], line 1\u001b[0m\n\u001b[1;32m----> 1\u001b[0m \u001b[43mmain\u001b[49m\u001b[43m(\u001b[49m\u001b[43m)\u001b[49m\n",
      "Cell \u001b[1;32mIn[30], line 5\u001b[0m, in \u001b[0;36mmain\u001b[1;34m()\u001b[0m\n\u001b[0;32m      4\u001b[0m \u001b[38;5;28;01mdef\u001b[39;00m \u001b[38;5;21mmain\u001b[39m():\n\u001b[1;32m----> 5\u001b[0m     num1 \u001b[38;5;241m=\u001b[39m \u001b[38;5;28;43mfloat\u001b[39;49m\u001b[43m(\u001b[49m\u001b[38;5;28;43minput\u001b[39;49m\u001b[43m(\u001b[49m\u001b[38;5;124;43m\"\u001b[39;49m\u001b[38;5;124;43mNhập outgoing_mins_per_month: \u001b[39;49m\u001b[38;5;124;43m\"\u001b[39;49m\u001b[43m)\u001b[49m\u001b[43m)\u001b[49m\n\u001b[0;32m      6\u001b[0m     num2 \u001b[38;5;241m=\u001b[39m \u001b[38;5;28mfloat\u001b[39m(\u001b[38;5;28minput\u001b[39m(\u001b[38;5;124m\"\u001b[39m\u001b[38;5;124mNhập outgoing_sms_per_month: \u001b[39m\u001b[38;5;124m\"\u001b[39m))\n\u001b[0;32m      7\u001b[0m     result \u001b[38;5;241m=\u001b[39m predict_monthly_mb(num1, num2)\n",
      "\u001b[1;31mValueError\u001b[0m: could not convert string to float: ''"
     ]
    }
   ],
   "source": [
    "main()"
   ]
  }
 ],
 "metadata": {
  "kernelspec": {
   "display_name": "Python 3",
   "language": "python",
   "name": "python3"
  },
  "language_info": {
   "codemirror_mode": {
    "name": "ipython",
    "version": 3
   },
   "file_extension": ".py",
   "mimetype": "text/x-python",
   "name": "python",
   "nbconvert_exporter": "python",
   "pygments_lexer": "ipython3",
   "version": "3.12.5"
  }
 },
 "nbformat": 4,
 "nbformat_minor": 2
}
