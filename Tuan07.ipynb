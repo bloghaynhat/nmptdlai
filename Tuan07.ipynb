{
 "cells": [
  {
   "cell_type": "code",
   "execution_count": 1,
   "metadata": {},
   "outputs": [
    {
     "data": {
      "text/html": [
       "<div>\n",
       "<style scoped>\n",
       "    .dataframe tbody tr th:only-of-type {\n",
       "        vertical-align: middle;\n",
       "    }\n",
       "\n",
       "    .dataframe tbody tr th {\n",
       "        vertical-align: top;\n",
       "    }\n",
       "\n",
       "    .dataframe thead th {\n",
       "        text-align: right;\n",
       "    }\n",
       "</style>\n",
       "<table border=\"1\" class=\"dataframe\">\n",
       "  <thead>\n",
       "    <tr style=\"text-align: right;\">\n",
       "      <th></th>\n",
       "      <th>Sức khỏe</th>\n",
       "      <th>Thời tiết</th>\n",
       "      <th>Kết quả</th>\n",
       "    </tr>\n",
       "  </thead>\n",
       "  <tbody>\n",
       "    <tr>\n",
       "      <th>0</th>\n",
       "      <td>ốm</td>\n",
       "      <td>u ám</td>\n",
       "      <td>có</td>\n",
       "    </tr>\n",
       "    <tr>\n",
       "      <th>1</th>\n",
       "      <td>ốm</td>\n",
       "      <td>mưa</td>\n",
       "      <td>có</td>\n",
       "    </tr>\n",
       "    <tr>\n",
       "      <th>2</th>\n",
       "      <td>ốm</td>\n",
       "      <td>nắng</td>\n",
       "      <td>không</td>\n",
       "    </tr>\n",
       "    <tr>\n",
       "      <th>3</th>\n",
       "      <td>ốm</td>\n",
       "      <td>u ám</td>\n",
       "      <td>có</td>\n",
       "    </tr>\n",
       "    <tr>\n",
       "      <th>4</th>\n",
       "      <td>tốt</td>\n",
       "      <td>u ám</td>\n",
       "      <td>không</td>\n",
       "    </tr>\n",
       "    <tr>\n",
       "      <th>5</th>\n",
       "      <td>tốt</td>\n",
       "      <td>mưa</td>\n",
       "      <td>không</td>\n",
       "    </tr>\n",
       "    <tr>\n",
       "      <th>6</th>\n",
       "      <td>tốt</td>\n",
       "      <td>nắng</td>\n",
       "      <td>có</td>\n",
       "    </tr>\n",
       "  </tbody>\n",
       "</table>\n",
       "</div>"
      ],
      "text/plain": [
       "  Sức khỏe Thời tiết Kết quả\n",
       "0       ốm      u ám      có\n",
       "1       ốm       mưa      có\n",
       "2       ốm      nắng   không\n",
       "3       ốm      u ám      có\n",
       "4      tốt      u ám   không\n",
       "5      tốt       mưa   không\n",
       "6      tốt      nắng      có"
      ]
     },
     "execution_count": 1,
     "metadata": {},
     "output_type": "execute_result"
    }
   ],
   "source": [
    "import pandas as pd \n",
    "df = pd.read_excel(\"lophoc.xlsx\" )\n",
    "df"
   ]
  },
  {
   "cell_type": "markdown",
   "metadata": {},
   "source": [
    "Entropy (Sự hỗn loạn về dữ liệu):\n",
    "\n",
    "Sự hỗn loạn về dữ liệu sẽ làm cho thông tin bị vẫn đục, bị hỗn loạn, dễ bị nhiễu, chứa nhiều thông tin, thông tin rất đa dạng => khó đưa ra quyết định\n",
    "\n",
    "Sự hỗn loạn thấp: thì khi đó chất lượng dữ liệu càng tinh khiết nhưng ngược lại sự đa dạng về thông tin sẽ giảm dần => dễ đưa ra quyết định\n",
    "\n",
    "Công thức: E(S) = Tổng(-pi.log2(pi))\n",
    "\n",
    "Giả sử 7 đổ 3 xanh: Entropy = -(0.7).log2(0.7) - (0.3).log2(0.3)\n"
   ]
  },
  {
   "cell_type": "markdown",
   "metadata": {},
   "source": [
    "Information Gain (IG): là một hàm số biểu diễn mức độ giảm xuống của entropy, mức độ giảm càng cao thì entropy mới sẽ cằng thấp => dễ đưa ra quyết định. Đây chính là mấu chốt của các giải thuật trong decision tree \n",
    "\n"
   ]
  },
  {
   "cell_type": "markdown",
   "metadata": {},
   "source": [
    "Như vậy để chọn lựa đặc trưng dùng để phân chia lựa chọn trong cây quyết định ta sẽ so sánh IG của chúng và chọn lựa IG cao nhất"
   ]
  },
  {
   "cell_type": "code",
   "execution_count": null,
   "metadata": {},
   "outputs": [],
   "source": []
  },
  {
   "cell_type": "code",
   "execution_count": null,
   "metadata": {},
   "outputs": [],
   "source": []
  }
 ],
 "metadata": {
  "kernelspec": {
   "display_name": "Python 3",
   "language": "python",
   "name": "python3"
  },
  "language_info": {
   "codemirror_mode": {
    "name": "ipython",
    "version": 3
   },
   "file_extension": ".py",
   "mimetype": "text/x-python",
   "name": "python",
   "nbconvert_exporter": "python",
   "pygments_lexer": "ipython3",
   "version": "3.12.3"
  }
 },
 "nbformat": 4,
 "nbformat_minor": 2
}
