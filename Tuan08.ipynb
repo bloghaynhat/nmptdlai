{
 "cells": [
  {
   "cell_type": "markdown",
   "metadata": {},
   "source": [
    "# Naive Bayes\n",
    "\n",
    "- kĩ thuật học có giám sát\n",
    "- giải thuật thuần tí về xác suất\n",
    "\n",
    "Công thức: P(class|data) = P(class) * P(data|class) / P(data)\n",
    "- posterior = prior * likelihood / evidence\n",
    "\n",
    "C = argmax P(Ci) * P(data|Ci)\n",
    "- C: Kết quả phân lớp \n",
    "- Ci thuộc classes\n",
    "\n",
    "Nếu có nhiều đặc trưng: \n",
    "C = argmax P(Ci) * Tích(P(data|Ci))\n"
   ]
  },
  {
   "cell_type": "markdown",
   "metadata": {},
   "source": []
  },
  {
   "cell_type": "markdown",
   "metadata": {},
   "source": []
  }
 ],
 "metadata": {
  "kernelspec": {
   "display_name": "Python 3",
   "language": "python",
   "name": "python3"
  },
  "language_info": {
   "name": "python",
   "version": "3.12.3"
  }
 },
 "nbformat": 4,
 "nbformat_minor": 2
}
